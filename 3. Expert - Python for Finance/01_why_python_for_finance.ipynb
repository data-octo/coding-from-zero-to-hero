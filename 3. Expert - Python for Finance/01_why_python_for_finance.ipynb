{
 "cells": [
  {
   "cell_type": "markdown",
   "metadata": {},
   "source": [
    "# Why Python for Finance?\n",
    "\n",
    "Question: What can Python do in Finance"
   ]
  },
  {
   "cell_type": "markdown",
   "execution_count": null,
   "metadata": {},
   "outputs": [],
   "source": [
    "## Content \n",
    "\n",
    "- Finance Use Cases\n",
    "- Zen of Python\n",
    "- Python Ecosystem\n",
    "- Python IDE\n",
    "- Hello World"
   ]
  },
  {
   "cell_type": "markdown",
   "execution_count": null,
   "metadata": {},
   "outputs": [],
   "source": [
    "## Finance Use Cases \n",
    "\n",
    "![](https://d2h0cx97tjks2p.cloudfront.net/blogs/wp-content/uploads/sites/2/2019/04/Applications-of-data-science-in-Finance.jpg)\n",
    "\n",
    "** 1. Risk Analytics **\n",
    "\n",
    "Risk Analytics is one of the key areas of data science and business intelligence in finance. With Risk analytics and management, a company is able to take strategic decisions, increase trustworthiness and security of the company. Since risk management measures the frequency of loss and multiplies it with the gravity of damage, data forms the core of it. Risk management is a cross-disciplinary field, it is essential to have knowledge of maths, statistics and problem-solving. While traditional structured data could always be accommodated in spreadsheets, the more advanced form of data is not structured. This form of big data provides institutions with various opportunities.\n",
    "\n",
    "There are various forms of risks that a company faces. These risks originate from competitors, credits, market, etc. The main steps towards managing risks are identifying it, monitoring and prioritizing the risks. There is a huge availability of data like customer information, financial transaction. Therefore, the institutions train on this type of data to increase risk scoring models and optimize their costs. Another important aspect of risk management is to verify the creditworthiness of customers. To analyze the creditworthiness, companies employ data scientists who use machine learning algorithms to analyze transactions made by the customers.\n",
    "\n",
    "** 2. Real-Time Analytics **\n",
    "\n",
    "In traditional analytics, data processing was in the form of batches. That is, data processing that was only historical in nature and not real-time. This caused problems for various industries that required real-time data in order to gain insights into the present circumstances. However, with the advancements in technologies and development of dynamic data pipelines, it is now possible to access the data with minimal latency. With this application of Data Science in Finance, institutions are able to track transactions, credit scores and other financial attributes without any issue of latency.\n",
    "\n",
    "** 3. Consumer Analytics **\n",
    "\n",
    "Consumer personalization is a major operation of financial institutions. With the help of real-time analytics, data scientists are able to take insights from consumer behavior and are able to take appropriate business decisions. Financial institutions like insurance companies make use of consumer analytics to measure the customer lifetime value, increase their cross-sales as well as reduce the below zero customers for optimizing the losses.\n",
    "\n",
    "** 4. Customer Data Management **\n",
    "\n",
    "Financial Institutions need data. As a matter of fact, big data has revolutionized the way in which financial institutions function. The volume and variety of data are contributed through social media and a large number of transactions.\n",
    "\n",
    "The data is present in two forms-\n",
    "\n",
    "- Structured data\n",
    "- Unstructured data\n",
    "\n",
    "While the structured data is easier to handle, it is the unstructured data that causes a lot of problems. This unstructured data can be handled with several NoSQL tools and can be processed with the help of MapReduce.\n",
    "\n",
    "Business Intelligence is the most important aspect of Big Data. Industries utilize machine learning to generate insights about the customers and extract business intelligence There are various tools in Artificial Intelligence like Natural Language Processing, data mining and text analytics that generate meaningful insights from the data. Furthermore, machine learning algorithms analyze the financial trends and changes in the market values through a thorough analysis of the customer data.\n",
    "\n",
    "** 5. Providing Personalized Services **\n",
    "\n",
    "Financial Institutions are responsible for providing personalized services to their customers. Financial Institutions employ a variety of techniques to analyze customer information and generate insights about their interactions. Furthermore, financial institutions are relying on speech recognition and natural language processing based software to provide better interactivity to its users.\n",
    "\n",
    "With the data that is provided back by the users, financial institutions are able to take actionable insights of their customer needs which would lead to an increase in profit. This would help the institutes to optimize their strategies and provide better services to their customers.\n",
    "\n",
    "** 6. Fraud Detection **\n",
    "\n",
    "Fraud is a major concern for financial institutions. The dangers of fraud have increased with an increase in the number of transactions. However, with the growth in big data and analytical tools, it is now possible for financial institutions to keep track of frauds. One of the most widely practiced frauds in financial institutions is credit card fraud. The detection of this type of fraud is due to the improvements in algorithms that have increased the accuracies for anomaly detection. Furthermore, these detections alert the companies about anomalies in financial purchases, prompting them to block the account so as to minimize the losses.\n",
    "\n",
    "Various machine learning tools can also identify unusual patterns in trading data and alert the financial institutions for further investigation into it. There are other insurance-related frauds that banks have to deal with. Using several clustering algorithms, companies are able to segregate and cluster patterns of data that seems to be highly suspicious.\n",
    "\n",
    "** 7. Algorithmic Trading **\n",
    "\n",
    "Algorithmic Trading is the most important part of financial institutions. In algorithmic trading, there are complex mathematical formulas and lightning speed computations that help the financial companies to devise new trading strategies. Big Data has had a huge impact on algorithmic trading and data science has become its most important feature.\n",
    "\n",
    "\n"
   ]
  },
  {
   "cell_type": "markdown",
   "metadata": {},
   "source": [
    "## Zen of Python"
   ]
  },
  {
   "cell_type": "code",
   "execution_count": 1,
   "metadata": {},
   "outputs": [
    {
     "name": "stdout",
     "output_type": "stream",
     "text": [
      "The Zen of Python, by Tim Peters\n",
      "\n",
      "Beautiful is better than ugly.\n",
      "Explicit is better than implicit.\n",
      "Simple is better than complex.\n",
      "Complex is better than complicated.\n",
      "Flat is better than nested.\n",
      "Sparse is better than dense.\n",
      "Readability counts.\n",
      "Special cases aren't special enough to break the rules.\n",
      "Although practicality beats purity.\n",
      "Errors should never pass silently.\n",
      "Unless explicitly silenced.\n",
      "In the face of ambiguity, refuse the temptation to guess.\n",
      "There should be one-- and preferably only one --obvious way to do it.\n",
      "Although that way may not be obvious at first unless you're Dutch.\n",
      "Now is better than never.\n",
      "Although never is often better than *right* now.\n",
      "If the implementation is hard to explain, it's a bad idea.\n",
      "If the implementation is easy to explain, it may be a good idea.\n",
      "Namespaces are one honking great idea -- let's do more of those!\n"
     ]
    }
   ],
   "source": [
    "import this"
   ]
  },
  {
   "cell_type": "markdown",
   "metadata": {},
   "source": [
    "## The Python Ecosystem\n",
    "\n",
    "![](https://sellevents.online/wp-content/uploads/2019/09/61580_image_68410650_2019176961515848_4688670554134151168_o.jpg)\n",
    "\n",
    "![](https://unwiredlearning.com/wp-content/uploads/2019/07/roadmap-python-training-1.png)\n"
   ]
  },
  {
   "cell_type": "markdown",
   "metadata": {},
   "source": [
    "## Python IDE\n",
    "\n",
    "Python IDE is a software suite that helps the developer automate the process of editing, compiling, testing, etc. in an SDLC. The best Python IDEs in today’s market are PyCharm, Spyder, Pydev, IDLE, Wing, Eric Python, Rodeo, Thonny, Jupyter Notebook, and Visual Studio Code. The best Python IDEs for Windows are PyCharm, Spyder, Pydev, IDLE, Wing, Eric Python, etc.\n",
    "\n",
    "![](https://hackr.io/blog/best-python-ide/thumbnail/large)\n",
    "\n",
    "IDE is a software package that consists of several tools for developing and testing the software. A software developer throughout the Software Development Lifecycle has to use many tools such as libraries, editors, compiling, and testing tools. An IDE helps the developer by automating the process. IDEs integrate many tools that are specially designed for SDLC. It will lessen the manual work by getting all the tools in one common framework. If there is no IDE, the developer has to manually take care of the entire Software Development Lifecycle process. In actual sense, IDEs were introduced to diminish the coding and typing errors.\n",
    "\n",
    "A code editor is a tool that is used to write and edit code. They are usually lightweight and can be great for learning. However, once your program gets larger, you need to test and debug your code, that's where IDEs come in.\n",
    "\n",
    "An IDE (Integrated Development Environment) understand your code much better than a text editor. It usually provides features such as build automation, code linting, testing and debugging. This can significantly speed up your work. The downside is that IDEs can be complicated to use.\n",
    "\n"
   ]
  },
  {
   "cell_type": "markdown",
   "metadata": {},
   "source": [
    "## Hello World\n",
    "\n",
    "A \"Hello, World!\" program generally is a computer program that outputs or displays the message \"Hello, World!\". Such a program is very simple in most programming languages, and is often used to illustrate the basic syntax of a programming language. It is often the first program written by people learning to code"
   ]
  },
  {
   "cell_type": "code",
   "execution_count": null,
   "metadata": {},
   "outputs": [],
   "source": [
    "print('Hello World')"
   ]
  }
 ],
 "metadata": {
  "kernelspec": {
   "display_name": "Python 3",
   "language": "python",
   "name": "python3"
  },
  "language_info": {
   "codemirror_mode": {
    "name": "ipython",
    "version": 3
   },
   "file_extension": ".py",
   "mimetype": "text/x-python",
   "name": "python",
   "nbconvert_exporter": "python",
   "pygments_lexer": "ipython3",
   "version": "3.6.7"
  }
 },
 "nbformat": 4,
 "nbformat_minor": 1
}