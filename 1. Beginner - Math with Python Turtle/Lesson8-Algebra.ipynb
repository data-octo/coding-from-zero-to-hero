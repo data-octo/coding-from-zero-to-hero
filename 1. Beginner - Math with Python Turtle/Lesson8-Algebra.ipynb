{
 "metadata": {
  "language_info": {
   "codemirror_mode": {
    "name": "ipython",
    "version": 3
   },
   "file_extension": ".py",
   "mimetype": "text/x-python",
   "name": "python",
   "nbconvert_exporter": "python",
   "pygments_lexer": "ipython3",
   "version": "3.8.5"
  },
  "orig_nbformat": 2,
  "kernelspec": {
   "name": "python385jvsc74a57bd0765416cc2a1e8026942b67ee36d0d741b3179b49a1c384a57362f8c050abc760",
   "display_name": "Python 3.8.5 64-bit ('base': conda)"
  }
 },
 "nbformat": 4,
 "nbformat_minor": 2,
 "cells": [
  {
   "source": [
    "1. Solving Equations ax + b = cx + d"
   ],
   "cell_type": "markdown",
   "metadata": {}
  },
  {
   "cell_type": "code",
   "execution_count": 1,
   "metadata": {},
   "outputs": [],
   "source": [
    "def equation(a,b,c,d):\n",
    "    '''Returns the solution of an equation\n",
    "    of the form ax + b = cx + d'''\n",
    "    return (d - b)/(a - c)"
   ]
  },
  {
   "cell_type": "code",
   "execution_count": 2,
   "metadata": {},
   "outputs": [
    {
     "output_type": "execute_result",
     "data": {
      "text/plain": [
       "9.0"
      ]
     },
     "metadata": {},
     "execution_count": 2
    }
   ],
   "source": [
    "equation(3,-5,0,22)"
   ]
  },
  {
   "source": [
    "\n",
    "Here’s a very useful program to solve for the third side of a right triangle using the Pythagorean Theorem:"
   ],
   "cell_type": "markdown",
   "metadata": {}
  },
  {
   "cell_type": "code",
   "execution_count": 4,
   "metadata": {},
   "outputs": [],
   "source": [
    "from math import sqrt\n",
    "\n",
    "def pythag(leg1,leg2):\n",
    "    '''solves for hypotenuse'''\n",
    "    return sqrt(leg1**2 + leg2**2)\n",
    "\n",
    "def pythag2(leg1,hyp):\n",
    "    '''solves for other leg\n",
    "    of right triangle'''\n",
    "    return sqrt(hyp**2 - leg1**2)"
   ]
  },
  {
   "cell_type": "code",
   "execution_count": 5,
   "metadata": {},
   "outputs": [
    {
     "output_type": "execute_result",
     "data": {
      "text/plain": [
       "13.0"
      ]
     },
     "metadata": {},
     "execution_count": 5
    }
   ],
   "source": [
    "pythag(5,12)"
   ]
  },
  {
   "cell_type": "code",
   "execution_count": 6,
   "metadata": {},
   "outputs": [],
   "source": [
    "def f(x):\n",
    "    return x**2 + 5*x + 6"
   ]
  },
  {
   "cell_type": "code",
   "execution_count": 7,
   "metadata": {},
   "outputs": [
    {
     "output_type": "execute_result",
     "data": {
      "text/plain": [
       "1056"
      ]
     },
     "metadata": {},
     "execution_count": 7
    }
   ],
   "source": [
    "f(30)"
   ]
  },
  {
   "source": [
    "Program: Factoring Polynomials"
   ],
   "cell_type": "markdown",
   "metadata": {}
  }
 ]
}