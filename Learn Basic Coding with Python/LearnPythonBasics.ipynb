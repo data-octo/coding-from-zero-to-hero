{
 "metadata": {
  "language_info": {
   "codemirror_mode": {
    "name": "ipython",
    "version": 3
   },
   "file_extension": ".py",
   "mimetype": "text/x-python",
   "name": "python",
   "nbconvert_exporter": "python",
   "pygments_lexer": "ipython3",
   "version": "3.8.5"
  },
  "orig_nbformat": 2,
  "kernelspec": {
   "name": "python385jvsc74a57bd0765416cc2a1e8026942b67ee36d0d741b3179b49a1c384a57362f8c050abc760",
   "display_name": "Python 3.8.5 64-bit ('base': conda)"
  }
 },
 "nbformat": 4,
 "nbformat_minor": 2,
 "cells": [
  {
   "source": [
    "### Lesson 7: Functions"
   ],
   "cell_type": "markdown",
   "metadata": {}
  },
  {
   "cell_type": "code",
   "execution_count": 1,
   "metadata": {},
   "outputs": [
    {
     "output_type": "stream",
     "name": "stdout",
     "text": [
      "i am happy 😀 \n"
     ]
    }
   ],
   "source": [
    "def emoji_converter(message):\n",
    "    words = message.split(' ')\n",
    "    emojis = {\n",
    "        ':)': '😀',\n",
    "        ':(': '😕'\n",
    "    }\n",
    "\n",
    "    output = ''\n",
    "    for word in words:\n",
    "        output += emojis.get(word, word) + ' '\n",
    "    \n",
    "    return output\n",
    "\n",
    "message = input('>')\n",
    "print(emoji_converter(message))"
   ]
  },
  {
   "source": [
    "### Lesson 8 Classes\n",
    "\n",
    "Video 3:00:00"
   ],
   "cell_type": "markdown",
   "metadata": {}
  }
 ]
}