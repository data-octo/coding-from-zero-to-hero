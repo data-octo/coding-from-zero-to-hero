{
 "cells": [
  {
   "cell_type": "markdown",
   "metadata": {},
   "source": [
    "<small><small><i>\n",
    "Introduction to Python - available from https://gitlab.erc.monash.edu.au/andrease/Python4Maths.git\n",
    "\n",
    "The original version was written by Rajath Kumar and is available at https://github.com/rajathkumarmp/Python-Lectures.\n",
    "The notes have been updated for Python 3 and amended for use in Monash University mathematics courses by [Andreas Ernst](http://users.monash.edu.au/~andreas) \n",
    "</small></small></i>"
   ]
  },
  {
   "cell_type": "markdown",
   "metadata": {},
   "source": [
    "# Python-Lectures"
   ]
  },
  {
   "cell_type": "markdown",
   "metadata": {},
   "source": [
    "## Introduction\n",
    "\n",
    "Python is a modern, robust, high level programming language. It is very easy to pick up even if you are completely new to programming. \n",
    "\n",
    "Python, similar to other languages like matlab or R, is interpreted hence runs slowly compared to C++, Fortran or Java. However writing programs in Python is very quick. Python has a very large collection of libraries for everything from scientific computing to web services. It caters for object oriented and functional programming with module system that allows large and complex applications to be developed in Python. \n",
    "\n",
    "These lectures are using jupyter notebooks which mix Python code with documentation. The python notebooks can be run on a webserver or stand-alone on a computer.\n",
    "\n",
    "To give an indication of what Python code looks like, here is a simple bit of code that defines a set $N=\\{1,3,4,5,7\\}$ and calculates the sum of the squared elements of this set: $$\\sum_{i\\in N} i^2=100$$"
   ]
  },
  {
   "cell_type": "code",
   "execution_count": 2,
   "metadata": {},
   "outputs": [
    {
     "name": "stdout",
     "output_type": "stream",
     "text": [
      "The sum of ∑_i∈N i*i = 164\n"
     ]
    }
   ],
   "source": [
    "N={1,3,4,5,7,8}\n",
    "print('The sum of ∑_i∈N i*i =',sum( i**2 for i in N ) )"
   ]
  },
  {
   "cell_type": "markdown",
   "metadata": {},
   "source": [
    "## Contents\n",
    "\n",
    "This course is broken up into a number of notebooks (chapters).\n",
    "\n",
    "* [00](00.ipynb) This introduction with additional information below on how to get started in running python\n",
    "* [01](01.ipynb) Basic data types and operations (numbers, strings) \n",
    "* [02](02.ipynb) String manipulation \n",
    "* [03](03.ipynb) Data structures: Lists and Tuples\n",
    "* [04](04.ipynb) Data structures (continued): dictionaries\n",
    "* [05](05.ipynb) Control statements: if, for, while, try statements\n",
    "* [06](06.ipynb) Functions\n",
    "* [07](07.ipynb) Classes and basic object oriented programming\n",
    "* [08](08.ipynb) Scipy: libraries for arrays (matrices) and plotting\n",
    "* [09](09.ipynb) Mixed Integer Linear Programming using the mymip library.\n",
    "* [10](10.ipynb) Networks and graphs under python - a very brief introduction\n",
    "* [11](11.ipynb) Using the numba library for fast numerical computing.\n",
    "\n",
    "This is a tutorial style introduction to Python. For a quick reminder / summary of Python syntax the following [Quick Reference Card](http://www.cs.put.poznan.pl/csobaniec/software/python/py-qrc.html) may be useful. A longer and more detailed tutorial style introduction to python is available from the python site at: https://docs.python.org/3/tutorial/\n"
   ]
  },
  {
   "cell_type": "markdown",
   "metadata": {},
   "source": [
    "## Installation\n",
    "\n",
    "### Loging into the web server\n",
    "The easiest way to run this and other notebooks for staff and students at Monash University is to log into the Jupyter server at [https://sci-web17-v01.ocio.monash.edu.au/hub](https://sci-web17-v01.ocio.monash.edu.au/hub). The steps for running notebooks are:\n",
    "* Log in using your monash email address. The first time you log in an empty account will automatically be set up for you.\n",
    "* Press the start button (if prompted by the system)\n",
    "* Use the menu of the jupyter system to upload a .ipynb python notebook file or to start a new notebook.\n",
    "\n",
    "### Installing \n",
    "\n",
    "Python runs on windows, linux, mac and other environments. There are many python distributions available. However the recommended way to install python under Microsoft Windows or Linux is to use the Anaconda distribution available at [https://www.continuum.io/downloads](https://www.continuum.io/downloads). Make sure to get the Python *3.6* version, not 2.7. This distribution comes with the [SciPy](https://www.scipy.org/) collection of scientific python tools as well as the iron python notebook. For developing python code without notebooks consider using [spyder](https://github.com/spyder-ide/spyder) (also included with Anaconda)\n",
    "\n",
    "To open a notebook with anaconda installed, from the terminal run:\n",
    "\n",
    "    ipython notebook\n",
    "\n",
    "Note that for the Monash University optimisation course additional modules relating to the commercial optimisation library [CPLEX](http://www-01.ibm.com/software/commerce/optimization/cplex-optimizer/index.html) and possibly [Gurobi](http://www.gurobi.com/) will be used. These libraries are not available as part of any standard distribution but are available under academic licence. Cplex is included on the [Monash server](https://sci-web17-v01.ocio.monash.edu.au/hub)."
   ]
  },
  {
   "cell_type": "markdown",
   "metadata": {},
   "source": [
    "## How to learn from this resource?\n",
    "\n",
    "Download all the  notebooks from Moodle or https://gitlab.erc.monash.edu.au/andrease/Python4Maths.git\n",
    "\n",
    "Upload them to the monash server and lauch them or launch ipython notebook from the folder which contains the notebooks. Open each one of them\n",
    "\n",
    "Cell > All Output > Clear\n",
    "\n",
    "This will clear all the outputs and now you can understand each statement and learn interactively.\n"
   ]
  },
  {
   "cell_type": "markdown",
   "metadata": {},
   "source": [
    "## License\n",
    "This work is licensed under the Creative Commons Attribution 3.0 Unported License. To view a copy of this license, visit http://creativecommons.org/licenses/by/3.0/"
   ]
  }
 ],
 "metadata": {
  "kernelspec": {
   "display_name": "Python 3",
   "language": "python",
   "name": "python3"
  },
  "language_info": {
   "codemirror_mode": {
    "name": "ipython",
    "version": 3
   },
   "file_extension": ".py",
   "mimetype": "text/x-python",
   "name": "python",
   "nbconvert_exporter": "python",
   "pygments_lexer": "ipython3",
   "version": "3.6.2"
  }
 },
 "nbformat": 4,
 "nbformat_minor": 1
}
