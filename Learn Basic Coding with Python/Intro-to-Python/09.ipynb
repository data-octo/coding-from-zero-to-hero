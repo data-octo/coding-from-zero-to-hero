{
 "cells": [
  {
   "cell_type": "markdown",
   "metadata": {},
   "source": [
    "# Integer & Linear Programming\n",
    "\n",
    "## An example\n",
    "\n"
   ]
  },
  {
   "cell_type": "markdown",
   "metadata": {},
   "source": [
    "Setting up data: cost matrix, demand, supply"
   ]
  },
  {
   "cell_type": "code",
   "execution_count": 1,
   "metadata": {
    "collapsed": false
   },
   "outputs": [
    {
     "name": "stdout",
     "output_type": "stream",
     "text": [
      "Total demand = 68\n"
     ]
    }
   ],
   "source": [
    "F = range(2) # 2 factories\n",
    "R = range(12) # 12 retailers\n",
    "C = [[1,2,2,1,3,4,5,7,5,2,3,2],\n",
    "    [4,5,5,4,1,3,1,2,1,2,4,6]]\n",
    "demand = [9,4,2,6,4,5,7,8,3,6,9,5]\n",
    "print('Total demand =',sum(demand))\n",
    "supply = [ 34, 45]"
   ]
  },
  {
   "cell_type": "markdown",
   "metadata": {},
   "source": [
    "Now we can define a linear program \n",
    "$$\\min \\sum_{i\\in F}\\sum_{j\\in R} c_{ij} x_{ij}$$\n",
    "Subject To\n",
    "$$\\sum_{r\\in R} x_{fr} \\le s_r\\quad\\forall f\\in F$$\n",
    "$$\\sum_{f\\in F} x_{fr} = d_f\\quad\\forall r\\in R$$\n",
    "$$x \\ge 0$$"
   ]
  },
  {
   "cell_type": "code",
   "execution_count": 2,
   "metadata": {
    "collapsed": false
   },
   "outputs": [
    {
     "name": "stdout",
     "output_type": "stream",
     "text": [
      "Tried aggregator 1 time.\n",
      "LP Presolve eliminated 0 rows and 4 columns.\n",
      "Aggregator did 12 substitutions.\n",
      "Reduced LP has 2 rows, 8 columns, and 16 nonzeros.\n",
      "Presolve time = 0.00 sec. (0.02 ticks)\n",
      "\n",
      "Iteration log . . .\n",
      "Iteration:     1   Dual objective     =           122.000000\n",
      "The minimum cost is 122.0\n",
      "9.0 from F0 to R00\n",
      "4.0 from F0 to R01\n",
      "2.0 from F0 to R02\n",
      "6.0 from F0 to R03\n",
      "4.0 from F1 to R04\n",
      "5.0 from F1 to R05\n",
      "7.0 from F1 to R06\n",
      "8.0 from F1 to R07\n",
      "3.0 from F1 to R08\n",
      "6.0 from F1 to R09\n",
      "8.0 from F0 to R10\n",
      "1.0 from F1 to R10\n",
      "5.0 from F0 to R11\n"
     ]
    }
   ],
   "source": [
    "from mymip.mycplex import Model\n",
    "\n",
    "lp = Model()\n",
    "# define double indexed variables and give them a meaningful names\n",
    "x = [ [lp.variable('x%dto%d'%(i,j)) for j in R] \n",
    "     for i in F ]\n",
    "\n",
    "lp.min( sum( C[i][j] * x[i][j] for i in F for j in R))\n",
    "# constraints can be given names too:\n",
    "lp.SubjectTo({\"Supply%d\"%f:   sum(x[f][r] for r in R) <= supply[f]   for f in F})\n",
    "lp.SubjectTo((\"Demand%02d\"%r, sum(x[f][r] for f in F) == demand[r] ) for r in R)\n",
    "for f in F: \n",
    "    for r in R: x[f][r] >= 0   # all variables non-negative\n",
    "lp.param[\"SCRIND\"]=1    # set parameter to show CPLEX output \n",
    "lp.optimise()\n",
    "\n",
    "print(\"The minimum cost is\",lp.objective())\n",
    "for r in R:\n",
    "    for f in F:\n",
    "        if x[f][r].x > 0: # amount is not zero\n",
    "            print(\"%.1f from F%d to R%02d\"%(x[f][r].x,f,r))"
   ]
  },
  {
   "cell_type": "markdown",
   "metadata": {
    "collapsed": true
   },
   "source": [
    "To see how the solve sees this problem, try writing it out to file and printing the contents of the file:"
   ]
  },
  {
   "cell_type": "code",
   "execution_count": 3,
   "metadata": {
    "collapsed": false
   },
   "outputs": [
    {
     "name": "stdout",
     "output_type": "stream",
     "text": [
      "\\ENCODING=ISO-8859-1\n",
      "\\Problem name: Model\n",
      "\n",
      "Minimize\n",
      " obj: x0to0 + 2 x0to1 + 2 x0to2 + x0to3 + 3 x0to4 + 4 x0to5 + 5 x0to6 + 7 x0to7\n",
      "      + 5 x0to8 + 2 x0to9 + 3 x0to10 + 2 x0to11 + 4 x1to0 + 5 x1to1 + 5 x1to2\n",
      "      + 4 x1to3 + x1to4 + 3 x1to5 + x1to6 + 2 x1to7 + x1to8 + 2 x1to9\n",
      "      + 4 x1to10 + 6 x1to11\n",
      "Subject To\n",
      " Supply0:  x0to0 + x0to1 + x0to2 + x0to3 + x0to4 + x0to5 + x0to6 + x0to7\n",
      "           + x0to8 + x0to9 + x0to10 + x0to11 <= 34\n",
      " Supply1:  x1to0 + x1to1 + x1to2 + x1to3 + x1to4 + x1to5 + x1to6 + x1to7\n",
      "           + x1to8 + x1to9 + x1to10 + x1to11 <= 45\n",
      " Demand00: x0to0 + x1to0  = 9\n",
      " Demand01: x0to1 + x1to1  = 4\n",
      " Demand02: x0to2 + x1to2  = 2\n",
      " Demand03: x0to3 + x1to3  = 6\n",
      " Demand04: x0to4 + x1to4  = 4\n",
      " Demand05: x0to5 + x1to5  = 5\n",
      " Demand06: x0to6 + x1to6  = 7\n",
      " Demand07: x0to7 + x1to7  = 8\n",
      " Demand08: x0to8 + x1to8  = 3\n",
      " Demand09: x0to9 + x1to9  = 6\n",
      " Demand10: x0to10 + x1to10  = 9\n",
      " Demand11: x0to11 + x1to11  = 5\n",
      "End\n",
      "\n"
     ]
    }
   ],
   "source": [
    "lp.write(\"myfirst.lp\")\n",
    "print(open(\"myfirst.lp\",\"r\").read())"
   ]
  },
  {
   "cell_type": "markdown",
   "metadata": {
    "collapsed": true
   },
   "source": [
    "## Advanced Usage\n",
    "All of the raw CPLEX callable library functions as per the can be accessed if required using C interface (see [IBM's CPLEX documentation](http://www.ibm.com/support/knowledgecenter/SSSA5P_12.6.2/ilog.odms.cplex.help/refcallablelibrary/groups/homepagecallable.html)) can be accessed by using the `cplex` object. \n",
    "\n",
    "For example to identify a minimal conflict set leading to infeasiblity of the problem we can use the [CPXrefineconflict](http://www.ibm.com/support/knowledgecenter/SSSA5P_12.6.2/ilog.odms.cplex.help/refcallablelibrary/cpxapi/refineconflict.html) and write out the conflict set using [CPXclpwrite](http://www.ibm.com/support/knowledgecenter/en/SSSA5P_12.6.2/ilog.odms.cplex.help/refcallablelibrary/cpxapi/clpwrite.html)"
   ]
  },
  {
   "cell_type": "code",
   "execution_count": 4,
   "metadata": {
    "collapsed": false
   },
   "outputs": [
    {
     "name": "stdout",
     "output_type": "stream",
     "text": [
      "\n",
      "Iteration log . . .\n",
      "Iteration:     1   Dual objective     =           204.000000\n",
      "########## Conflict LP ##########\n",
      "\\ENCODING=ISO-8859-1\n",
      "\\Problem name: Model_conflict\n",
      "\n",
      "Minimize\n",
      " obj:\n",
      "Subject To\n",
      " Demand00: x0to0 + x1to0  = 9\n",
      " Demand01: x0to1 + x1to1  = 4\n",
      " C15:      x0to0 + x1to1 >= 50\n",
      "\\Sum of equality rows in the conflict:\n",
      "\\ sum_eq: x0to0 + x0to1 + x1to0 + x1to1  = 13\n",
      "Bounds\n",
      "      x0to0 Free\n",
      "      x1to1 Free\n",
      "End\n",
      "\n"
     ]
    }
   ],
   "source": [
    "from mymip.mycplex import cplex\n",
    "lp.SubjectTo(x[0][0]+x[1][1] >= 50) # make it infeasible\n",
    "lp.optimise() # error!\n",
    "cplex.CPXrefineconflict(lp.Env,lp.LP,0,0) # 2 null pointers\n",
    "cplex.CPXclpwrite(lp.Env,lp.LP,b\"conflict.lp\") # note binary (ascii) string\n",
    "print(\"#\"*10,\"Conflict LP\",\"#\"*10)\n",
    "print(open(\"conflict.lp\",\"r\").read())"
   ]
  }
 ],
 "metadata": {
  "kernelspec": {
   "display_name": "Python 3",
   "language": "python",
   "name": "python3"
  },
  "language_info": {
   "codemirror_mode": {
    "name": "ipython",
    "version": 3
   },
   "file_extension": ".py",
   "mimetype": "text/x-python",
   "name": "python",
   "nbconvert_exporter": "python",
   "pygments_lexer": "ipython3",
   "version": "3.5.2"
  }
 },
 "nbformat": 4,
 "nbformat_minor": 0
}
