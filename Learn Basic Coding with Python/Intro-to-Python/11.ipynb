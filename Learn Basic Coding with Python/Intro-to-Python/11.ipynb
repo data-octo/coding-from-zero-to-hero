{
 "cells": [
  {
   "cell_type": "markdown",
   "metadata": {},
   "source": [
    "<small><small><i>\n",
    "All of these python notebooks are available at [https://gitlab.erc.monash.edu.au/andrease/Python4Maths.git]\n",
    "</i></small></small>"
   ]
  },
  {
   "cell_type": "markdown",
   "metadata": {},
   "source": [
    "# Speed with Python\n",
    "\n",
    "## Background\n",
    "As an interpreted language, python is natively fairly slow. However there are a number of ways to speed python up by using a complier or just-in-time compiler. Examples include [pypy](http://pypy.org/) and [cython](http://cython.org/). Here we will use a less intrusive approach that comes with the Anaconda distribution: the [numba](https://numba.pydata.org/) library which allows just-in-time compilation of python code with some limitations.\n",
    "\n",
    "## Numba\n",
    "While pthon is not really designed for fast computation, the numba library allows speed that comes close to C/Fortran for selected functions that perform computationally intensive tasks. This is achieved by importing the numba library and marking up computationally intensive functions with the `@jit` decorator. This decorator requests the function to be compiled (without any other intervention by the user). For it to effective the functions typically have to be restricted to use only a subset of Python data types (in particular lists, and numpy arrays/matrices, tuples and numbers). While some other data sets are supported and the level of support is increasing, complex data types provided by external python libraries are unlikely to be ever supported.\n",
    "\n"
   ]
  },
  {
   "cell_type": "markdown",
   "metadata": {},
   "source": [
    "## Example\n",
    "Here is an example of using numba to speed up matrix multiplication. The function is defined twice with the same code but once with the normal interpreter and the second time using numba's just-in-time compilation. For comparison we also include matrix multiplication with the numpy library which performs the core computation in compiled code. Typical output shows that the jit version is order of magnitude faster than standard python, though still slightly slower than the numpy compiled code. The numpy implementation uses the BLAS library (when available) which is very heavily optimised compared to the simple minded matrix multiplication below."
   ]
  },
  {
   "cell_type": "code",
   "execution_count": 20,
   "metadata": {},
   "outputs": [
    {
     "name": "stdout",
     "output_type": "stream",
     "text": [
      "Normal python 5.0939 sec\n",
      "JIT    python 0.0091 sec\n",
      "Numpy C code  0.0153 sec\n"
     ]
    }
   ],
   "source": [
    "import numba\n",
    "import numpy as np\n",
    "from timeit import timeit\n",
    "\n",
    "def pyMult(A,B): # very simple/crude matrix multiplication\n",
    "    m,n = A.shape\n",
    "    p,q = B.shape\n",
    "    if n != p: print(\"ERROR: invalid dimensions: %d != %d\",n,p)\n",
    "    C=np.empty((m,q))\n",
    "    for i in range(m):\n",
    "        for j in range(q):\n",
    "            c=0\n",
    "            for k in range(n): c += A[i][k]*B[k][j]\n",
    "            C[i][j]=c\n",
    "    return C\n",
    "\n",
    "## Here we mark a function as being \"just-in-time compiled\" (jit)\n",
    "## In addition we tell the compiler that this is a function that\n",
    "## - has two arguments that are 64bit floating point matrices\n",
    "## - returns a 64 bit floating point matrix\n",
    "## - no interpreted python should be used (nopython=True)\n",
    "## The arguments in brackets are optional (@numba.jit is sufficient)\n",
    "@numba.jit(numba.float64[:,:](numba.float64[:,:],numba.float64[:,:]),nopython=True) \n",
    "def jitMult(A,B):\n",
    "    m,n = A.shape\n",
    "    p,q = B.shape\n",
    "    if n != p: print(\"ERROR: invalid dimensions: %d != %d\",n,p)\n",
    "    C=np.empty((m,q))\n",
    "    for i in range(m):\n",
    "        for j in range(q):\n",
    "            c=0\n",
    "            for k in range(n): c += A[i][k]*B[k][j]\n",
    "            C[i][j]=c\n",
    "    return C\n",
    "mat=lambda m,n: np.random.rand(m,n)\n",
    "print(\"Normal python %.4f sec\" % timeit(lambda: pyMult(mat(100,200),mat(200,50)),number=9))\n",
    "print(\"JIT    python %.4f sec\" % timeit(lambda:jitMult(mat(100,200),mat(200,50)),number=9))\n",
    "print(\"Numpy C code  %.4f sec\" % timeit(lambda: np.asmatrix(mat(100,200))*np.asmatrix(mat(200,50)), number=9))"
   ]
  },
  {
   "cell_type": "markdown",
   "metadata": {},
   "source": [
    "## Speed Exercise\n",
    "\n",
    "Consider the following problem: given a list of integers (possibly with repeats), create the set of all unique triplets of numbers from this list so that the sum of numbers is zero. This can be written very simply in python:"
   ]
  },
  {
   "cell_type": "code",
   "execution_count": 7,
   "metadata": {
    "scrolled": false
   },
   "outputs": [],
   "source": [
    "# simplistic definition any tuple of numbers corresponding to 3 unique indices in N in ascending order that sum to 0\n",
    "s3=lambda N: {(n1,n2,n3) for i1,n1 in enumerate(N) for i2,n2 in enumerate(N) for i3,n3 in enumerate(N)\n",
    "              if len({i1,i2,i3}) ==3 and n1<=n2<=n3 and n1+n2+n3==0}\n",
    "from itertools import combinations  # use itertools library to create combinations\n",
    "s3basic=lambda N:{ tuple(sorted([i,j,k])) for i,j,k in combinations(N,3) if i+j+k==0}"
   ]
  },
  {
   "cell_type": "markdown",
   "metadata": {},
   "source": [
    "How fast can we make this computation? Here are two functions in Python with the second being significantly faster than the first. "
   ]
  },
  {
   "cell_type": "code",
   "execution_count": 12,
   "metadata": {},
   "outputs": [],
   "source": [
    "def three_sum(num):  \n",
    "    \"A first implementation: assumes num is a list/array of integers\"\n",
    "    if len(num)<3: return []  \n",
    "    num.sort()  \n",
    "    result=[]  \n",
    "    for i in range(len(num)-2):  \n",
    "        left=i+1  \n",
    "        right=len(num)-1  \n",
    "        if i!=0 and num[i]==num[i-1]:continue  \n",
    "        while left<right:  \n",
    "            if num[left]+num[right]==-num[i]:  \n",
    "                result.append([num[i],num[left],num[right]])  \n",
    "                left=left+1  \n",
    "                right=right-1  \n",
    "                while num[left]==num[left-1] and left<right:left=left+1  \n",
    "                while num[right]==num[right+1] and left<right: right=right-1  \n",
    "            elif num[left]+num[right]<-num[i]:  \n",
    "                left=left+1  \n",
    "            else:  \n",
    "                right=right-1  \n",
    "    return result  \n",
    "\n",
    "from collections import Counter # count repated entries\n",
    "def py_3sum(num):  \n",
    "    \"Given a list/array of integers, return unique sets of triplets summing to zero\"\n",
    "    if len(num)<3: return []  \n",
    "    count = Counter(num)\n",
    "    num = sorted(count.keys())  # unique numbers in order\n",
    "    result=[]  \n",
    "    positive= {i for i in num if i>0} # last number must be >0\n",
    "    end=len(num)-1\n",
    "    for i,first in enumerate(num):\n",
    "        if first >= 0: break\n",
    "        last = -first//2\n",
    "        while num[end] > last: end -= 1\n",
    "        if num[end] == last and first%2==0:\n",
    "            if count[last]>1: result.append( (first,last,last))\n",
    "            end -= 1\n",
    "        for second in num[i+(count[first]==1):end+1]:\n",
    "            if -(first+second) in positive:\n",
    "                result.append( (first,second,-(first+second)) )\n",
    "    if count[0] >= 3: result.append( (0,0,0) )\n",
    "    return result  \n"
   ]
  },
  {
   "cell_type": "markdown",
   "metadata": {},
   "source": [
    "Let's check correctness with a small list"
   ]
  },
  {
   "cell_type": "code",
   "execution_count": 16,
   "metadata": {},
   "outputs": [
    {
     "name": "stdout",
     "output_type": "stream",
     "text": [
      "Original      [(-10, 2, 8), (-7, -3, 10), (-4, 2, 2)]\n",
      "First python  [[-10, 2, 8], [-7, -3, 10], [-4, 2, 2]]\n",
      "Second python [(-10, 2, 8), (-7, -3, 10), (-4, 2, 2)]\n"
     ]
    }
   ],
   "source": [
    "nums = [-25,-10,-10,-7,-4,-3,2,2,4,8,10]\n",
    "print(\"Original     \",sorted(s3(nums))) # for easy comparison\n",
    "print(\"First python \",three_sum(nums))\n",
    "print(\"Second python\",py_3sum(nums))"
   ]
  },
  {
   "cell_type": "markdown",
   "metadata": {
    "collapsed": true
   },
   "source": [
    "Now let's test this for speed. We will ignore the `s3` function as it is *really* slow! Note that it still takes some time to run the test as the first python method is also not very fast (around 5 seconds per call with a list of 5000 numbers)"
   ]
  },
  {
   "cell_type": "code",
   "execution_count": 23,
   "metadata": {},
   "outputs": [
    {
     "name": "stdout",
     "output_type": "stream",
     "text": [
      "First python  = 4119.3223 ms / call\n",
      "Second python =  403.1344 ms / call\n"
     ]
    }
   ],
   "source": [
    "from timeit import timeit\n",
    "import random\n",
    "n,repeat=5000,10\n",
    "nums = [random.randint(-10000,10000) for i in range(n)]\n",
    "total=timeit(lambda :three_sum(nums),number=repeat)  \n",
    "print(\"First python  = %7.2f ms / call\"%(total*1000/repeat))\n",
    "total=timeit(lambda :py_3sum(nums),number=repeat)  \n",
    "print(\"Second python = %7.2f ms / call\"%(total*1000/repeat))"
   ]
  },
  {
   "cell_type": "markdown",
   "metadata": {},
   "source": [
    "**Challenge:** write a function using the numba jit functionality that runs at least twice as fast as the pure python code. Note that you may need to use a slightly different algorithm and perhaps convert the list of integers to a numpy array of `int32` numbers as input to the jit function. So the signature of the jit compiled function might be something like:\n",
    "\n",
    "```python\n",
    "@numba.jit(numba.int32[:,:](numba.int32[:]),nopython=True)    \n",
    "def jit_3sum(num):  \n",
    "     pass # write your code here\n",
    "# test it\n",
    "total=timeit(lambda :jit_3sum(np.array(nums,np.int32)),number=repeat)  \n",
    "print(\"jit python   = %7.2f ms / call\"%(total*1000/repeat)) \n",
    "```\n",
    "\n",
    "It should be possible to get this to run at least twice as fast as the second python version, though getting a whole order of magnitude speed-up is difficult."
   ]
  },
  {
   "cell_type": "code",
   "execution_count": null,
   "metadata": {
    "collapsed": true
   },
   "outputs": [],
   "source": []
  }
 ],
 "metadata": {
  "kernelspec": {
   "display_name": "Python 3",
   "language": "python",
   "name": "python3"
  },
  "language_info": {
   "codemirror_mode": {
    "name": "ipython",
    "version": 3
   },
   "file_extension": ".py",
   "mimetype": "text/x-python",
   "name": "python",
   "nbconvert_exporter": "python",
   "pygments_lexer": "ipython3",
   "version": "3.6.2"
  }
 },
 "nbformat": 4,
 "nbformat_minor": 2
}
