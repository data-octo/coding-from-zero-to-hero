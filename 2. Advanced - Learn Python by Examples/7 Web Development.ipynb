{
 "nbformat": 4,
 "nbformat_minor": 2,
 "metadata": {
  "language_info": {
   "name": "python",
   "codemirror_mode": {
    "name": "ipython",
    "version": 3
   },
   "version": "3.7.4"
  },
  "orig_nbformat": 2,
  "file_extension": ".py",
  "mimetype": "text/x-python",
  "name": "python",
  "npconvert_exporter": "python",
  "pygments_lexer": "ipython3",
  "version": 3
 },
 "cells": [
  {
   "cell_type": "markdown",
   "metadata": {},
   "source": [
    "# 7. Web Development\n",
    "\n",
    "Question: How do we build web applications with Python?\n",
    "\n",
    "Answer: Use Flask library."
   ]
  },
  {
   "cell_type": "markdown",
   "metadata": {},
   "source": [
    "## What's HTTP Web Server?\n",
    "\n",
    "An HTTP web server is nothing but a process that is running on your machine and does exactly two things:\n",
    "\n",
    "1- Listens for incoming http requests on a specific TCP socket address (IP address and a port number which I will talk about later)\n",
    "\n",
    "2- Handles this request and sends a response back to the user.\n",
    "\n",
    "![](https://k2d8u9t7.stackpathcdn.com/blog/wp-content/uploads/2018/10/tcpsocketaddressing.png)"
   ]
  },
  {
   "cell_type": "markdown",
   "metadata": {},
   "source": [
    "## Python built-in Web Server\n",
    "\n",
    "Python comes with a built-in module known as SimpleHTTPServer, which in other words is a simple HTTP server that gives you standard GET and HEAD request handlers. This module can turn any directory of your system into a web server. You just need to type a single line command in your terminal to implement this HTTP server.\n",
    "\n",
    "For example if you wish to share a directory /home/python\n",
    "\n",
    "Open up a terminal and type:\n",
    "```\n",
    "$cd /home/python\n",
    "$python -m SimpleHTTPServer\n",
    "```\n",
    "Thats just it, fire up your browser and the present directory files can be seen on http://localhost:8000.\n",
    "\n",
    "If the directory has a files name such as index.html, then that file will served as the initial file. Otherwise all the files present in the directory will be listed.\n",
    "\n",
    "If port 8000 is already being by any other server, the above mentioned command accepts an optional port number as well.\n",
    "```\n",
    "$python -m SimpleHTTPServer <port_number>\n",
    "```\n",
    "This will start a server on the specified port.\n",
    "\n",
    "For Python 3.x the command changes to:\n",
    "```\n",
    "$python3 -m http.server\n",
    "```"
   ]
  },
  {
   "cell_type": "markdown",
   "metadata": {},
   "source": [
    "## Flask \n",
    "\n",
    "Flask is micro-framework which has very little dependency on external libraries. It is a very light framework and gives us freedom to do whatever we want.\n",
    "\n",
    "- easy to use.\n",
    "- built in development server and debugger\n",
    "- integrated unit testing support\n",
    "- RESTful request dispatching\n",
    "- uses Jinja2 templating\n",
    "- support for secure cookies (client side sessions)\n",
    "- 100% WSGI 1.0 compliant\n",
    "- Unicode based\n",
    "- extensively documented\n",
    "\n",
    "Install Flask using the command below:\n",
    "```\n",
    "$ pip install Flask\n",
    "```\n"
   ]
  },
  {
   "cell_type": "code",
   "execution_count": 3,
   "metadata": {},
   "outputs": [
    {
     "name": "stdout",
     "output_type": "stream",
     "text": "* Serving Flask app \"__main__\" (lazy loading)\n * Environment: production\n   WARNING: This is a development server. Do not use it in a production deployment.\n   Use a production WSGI server instead.\n * Debug mode: off\n * Running on http://127.0.0.1:5000/ (Press CTRL+C to quit)\n127.0.0.1 - - [26/Dec/2019 22:26:18] \"\u001b[37mGET / HTTP/1.1\u001b[0m\" 200 -\n127.0.0.1 - - [26/Dec/2019 22:26:18] \"\u001b[33mGET /favicon.ico HTTP/1.1\u001b[0m\" 404 -\n"
    }
   ],
   "source": [
    "# Hello World web app with Flask\n",
    "\n",
    "from flask import Flask\n",
    "app = Flask(__name__)\n",
    "\n",
    "@app.route(\"/\")\n",
    "def hello():\n",
    "    return \"Hello World!\"\n",
    "\n",
    "if __name__ == \"__main__\":\n",
    "    app.run()"
   ]
  },
  {
   "cell_type": "code",
   "execution_count": null,
   "metadata": {},
   "outputs": [],
   "source": [
    "# Create RESTFul API with Flask\n",
    "import os\n",
    "from flask import Flask, request, jsonify\n",
    "from flask_sqlalchemy import SQLAlchemy\n",
    "\n",
    "app = Flask(__name__)\n",
    "\n",
    "app.config.from_object(os.environ['APP_SETTINGS'])\n",
    "app.config['SQLALCHEMY_TRACK_MODIFICATIONS'] = False\n",
    "db = SQLAlchemy(app)\n",
    "\n",
    "from models import Book\n",
    "\n",
    "@app.route(\"/\")\n",
    "def hello():\n",
    "    return \"Hello World!\"\n",
    "\n",
    "@app.route(\"/add\")\n",
    "def add_book():\n",
    "    name=request.args.get('name')\n",
    "    author=request.args.get('author')\n",
    "    published=request.args.get('published')\n",
    "    try:\n",
    "        book=Book(\n",
    "            name=name,\n",
    "            author=author,\n",
    "            published=published\n",
    "        )\n",
    "        db.session.add(book)\n",
    "        db.session.commit()\n",
    "        return \"Book added. book id={}\".format(book.id)\n",
    "    except Exception as e:\n",
    "\t    return(str(e))\n",
    "\n",
    "@app.route(\"/getall\")\n",
    "def get_all():\n",
    "    try:\n",
    "        books=Book.query.all()\n",
    "        return  jsonify([e.serialize() for e in books])\n",
    "    except Exception as e:\n",
    "\t    return(str(e))\n",
    "\n",
    "@app.route(\"/get/<id_>\")\n",
    "def get_by_id(id_):\n",
    "    try:\n",
    "        book=Book.query.filter_by(id=id_).first()\n",
    "        return jsonify(book.serialize())\n",
    "    except Exception as e:\n",
    "\t    return(str(e))\n",
    "\n",
    "if __name__ == '__main__':\n",
    "    app.run()"
   ]
  }
 ]
}