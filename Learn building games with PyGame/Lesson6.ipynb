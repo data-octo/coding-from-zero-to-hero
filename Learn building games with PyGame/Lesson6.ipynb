{
 "metadata": {
  "language_info": {
   "codemirror_mode": {
    "name": "ipython",
    "version": 3
   },
   "file_extension": ".py",
   "mimetype": "text/x-python",
   "name": "python",
   "nbconvert_exporter": "python",
   "pygments_lexer": "ipython3",
   "version": "3.8.5"
  },
  "orig_nbformat": 2,
  "kernelspec": {
   "name": "python385jvsc74a57bd0765416cc2a1e8026942b67ee36d0d741b3179b49a1c384a57362f8c050abc760",
   "display_name": "Python 3.8.5 64-bit ('base': conda)"
  }
 },
 "nbformat": 4,
 "nbformat_minor": 2,
 "cells": [
  {
   "source": [
    "By default python’s print() function ends with a newline. A programmer with C/C++ background may wonder how to print without newline.\n",
    "\n",
    "Python’s print() function comes with a parameter called ‘end’. By default, the value of this parameter is ‘\\n’, i.e. the new line character. You can end a print statement with any character/string using this parameter."
   ],
   "cell_type": "markdown",
   "metadata": {}
  },
  {
   "cell_type": "code",
   "execution_count": 5,
   "metadata": {},
   "outputs": [
    {
     "output_type": "stream",
     "name": "stdout",
     "text": [
      " 1  2  3  4  5  6  7  8  9 \n 2  4  6  8 10 12 14 16 18 \n 3  6  9 12 15 18 21 24 27 \n 4  8 12 16 20 24 28 32 36 \n 5 10 15 20 25 30 35 40 45 \n 6 12 18 24 30 36 42 48 54 \n 7 14 21 28 35 42 49 56 63 \n 8 16 24 32 40 48 56 64 72 \n 9 18 27 36 45 54 63 72 81 \n"
     ]
    }
   ],
   "source": [
    "for i in range(1, 10):\n",
    "    for j in range(1, 10): \n",
    "        if i*j < 10:\n",
    "            print(' ', end='')\n",
    "        print(i*j, end=' ')\n",
    "    print()"
   ]
  },
  {
   "cell_type": "code",
   "execution_count": 6,
   "metadata": {},
   "outputs": [
    {
     "output_type": "stream",
     "name": "stdout",
     "text": [
      "                  1 \n                1 2 1 \n              1 2 3 2 1 \n            1 2 3 4 3 2 1 \n          1 2 3 4 5 4 3 2 1 \n        1 2 3 4 5 6 5 4 3 2 1 \n      1 2 3 4 5 6 7 6 5 4 3 2 1 \n    1 2 3 4 5 6 7 8 7 6 5 4 3 2 1 \n  1 2 3 4 5 6 7 8 9 8 7 6 5 4 3 2 1 \n"
     ]
    }
   ],
   "source": [
    "# Chapter 6 - Problem 11\n",
    "for row in range(1, 10):\n",
    "    for i in range(10-row):\n",
    "        print(' ', end=' ')\n",
    "    for i in range(1, row):\n",
    "        print(i, end=' ')\n",
    "    for i in range(row, 0, -1):\n",
    "        print(i, end=' ')\n",
    "    print()"
   ]
  },
  {
   "cell_type": "code",
   "execution_count": null,
   "metadata": {},
   "outputs": [],
   "source": []
  }
 ]
}