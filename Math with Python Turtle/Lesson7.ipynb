{
 "metadata": {
  "language_info": {
   "codemirror_mode": {
    "name": "ipython",
    "version": 3
   },
   "file_extension": ".py",
   "mimetype": "text/x-python",
   "name": "python",
   "nbconvert_exporter": "python",
   "pygments_lexer": "ipython3",
   "version": "3.8.5"
  },
  "orig_nbformat": 2,
  "kernelspec": {
   "name": "python385jvsc74a57bd0765416cc2a1e8026942b67ee36d0d741b3179b49a1c384a57362f8c050abc760",
   "display_name": "Python 3.8.5 64-bit ('base': conda)"
  }
 },
 "nbformat": 4,
 "nbformat_minor": 2,
 "cells": [
  {
   "cell_type": "code",
   "execution_count": 5,
   "metadata": {},
   "outputs": [],
   "source": [
    "def average(a,b):\n",
    "    return(a+b)/2\n",
    "\n",
    "def median(listA):\n",
    "    '''Returns the median of a list of numbers.'''\n",
    "    #first put the list in order:\n",
    "    listA.sort()\n",
    "    n = len(listA) #n is the length of the list\n",
    "    #If there's an even number of items in the list:\n",
    "    if n % 2 == 0:\n",
    "        #The median is the average of the middle two\n",
    "        return average(listA[n//2-1],listA[n//2])\n",
    "    else:\n",
    "        #The median is the middle one\n",
    "        return listA[n//2]"
   ]
  },
  {
   "cell_type": "code",
   "execution_count": 6,
   "metadata": {},
   "outputs": [
    {
     "output_type": "execute_result",
     "data": {
      "text/plain": [
       "11.5"
      ]
     },
     "metadata": {},
     "execution_count": 6
    }
   ],
   "source": [
    "l = [1, 20, 2, 3, 31, 50]\n",
    "median(l)"
   ]
  },
  {
   "cell_type": "code",
   "execution_count": 7,
   "metadata": {},
   "outputs": [],
   "source": [
    "def factors(number):\n",
    "    '''Returns a list of factors of a number.'''\n",
    "    factor_list = [1] #1 is definitely a factor\n",
    "    for i in range(2, number+1): #try every number up to 'number'\n",
    "        if number % i == 0: #if number mod i is zero\n",
    "            factor_list.append(i) #add it to the list\n",
    "    return factor_list"
   ]
  },
  {
   "cell_type": "code",
   "execution_count": 10,
   "metadata": {},
   "outputs": [
    {
     "output_type": "execute_result",
     "data": {
      "text/plain": [
       "[1, 2, 3, 4, 6, 8, 12, 24]"
      ]
     },
     "metadata": {},
     "execution_count": 10
    }
   ],
   "source": [
    "factors(24)"
   ]
  },
  {
   "cell_type": "code",
   "execution_count": 11,
   "metadata": {},
   "outputs": [],
   "source": [
    "def fibo(n):\n",
    "    '''Returns n Fibonacci numbers.'''\n",
    "    fibos = [1,1] #The first two Fibonaccis\n",
    "    for i in range(n-2):\n",
    "        fibos.append(fibos[-1] + fibos[-2])\n",
    "    return fibos"
   ]
  },
  {
   "cell_type": "code",
   "execution_count": 13,
   "metadata": {},
   "outputs": [
    {
     "output_type": "execute_result",
     "data": {
      "text/plain": [
       "[1,\n",
       " 1,\n",
       " 2,\n",
       " 3,\n",
       " 5,\n",
       " 8,\n",
       " 13,\n",
       " 21,\n",
       " 34,\n",
       " 55,\n",
       " 89,\n",
       " 144,\n",
       " 233,\n",
       " 377,\n",
       " 610,\n",
       " 987,\n",
       " 1597,\n",
       " 2584,\n",
       " 4181,\n",
       " 6765,\n",
       " 10946,\n",
       " 17711,\n",
       " 28657,\n",
       " 46368,\n",
       " 75025,\n",
       " 121393,\n",
       " 196418,\n",
       " 317811,\n",
       " 514229,\n",
       " 832040]"
      ]
     },
     "metadata": {},
     "execution_count": 13
    }
   ],
   "source": [
    "fibo(30)"
   ]
  },
  {
   "cell_type": "code",
   "execution_count": null,
   "metadata": {},
   "outputs": [],
   "source": []
  }
 ]
}