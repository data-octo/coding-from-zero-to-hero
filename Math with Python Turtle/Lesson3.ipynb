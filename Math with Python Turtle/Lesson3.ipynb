{
 "metadata": {
  "language_info": {
   "codemirror_mode": {
    "name": "ipython",
    "version": 3
   },
   "file_extension": ".py",
   "mimetype": "text/x-python",
   "name": "python",
   "nbconvert_exporter": "python",
   "pygments_lexer": "ipython3",
   "version": "3.8.5"
  },
  "orig_nbformat": 2,
  "kernelspec": {
   "name": "python385jvsc74a57bd0765416cc2a1e8026942b67ee36d0d741b3179b49a1c384a57362f8c050abc760",
   "display_name": "Python 3.8.5 64-bit ('base': conda)"
  }
 },
 "nbformat": 4,
 "nbformat_minor": 2,
 "cells": [
  {
   "cell_type": "code",
   "execution_count": 1,
   "metadata": {},
   "outputs": [],
   "source": [
    "from turtle import *\n",
    "\n",
    "shape(\"turtle\")"
   ]
  },
  {
   "cell_type": "code",
   "execution_count": null,
   "metadata": {},
   "outputs": [],
   "source": [
    "def square(length):\n",
    "    for i in range(4):\n",
    "        fd(length)\n",
    "        rt(90)"
   ]
  },
  {
   "cell_type": "code",
   "execution_count": null,
   "metadata": {},
   "outputs": [],
   "source": [
    "square(30)\n",
    "square(50)\n",
    "square(100)\n",
    "\n",
    "done()"
   ]
  },
  {
   "cell_type": "code",
   "execution_count": null,
   "metadata": {},
   "outputs": [],
   "source": [
    "def spiral(times = 30):\n",
    "    '''draws a spiral of squares.'''\n",
    "    # color('blue')\n",
    "    color('red', 'yellow')\n",
    "    length = 10\n",
    "    for i in range(times):\n",
    "        square(length)\n",
    "        rt(5)\n",
    "        length = length + 5\n",
    "speed(10)\n",
    "spiral()\n",
    "done()"
   ]
  },
  {
   "cell_type": "code",
   "execution_count": null,
   "metadata": {},
   "outputs": [],
   "source": [
    "for i in range(5):\n",
    "    fd(100)\n",
    "    rt(72)\n",
    "\n",
    "done()"
   ]
  },
  {
   "cell_type": "code",
   "execution_count": null,
   "metadata": {},
   "outputs": [],
   "source": [
    "def polygon(sides):\n",
    "    for i in range(sides):\n",
    "        fd(100)\n",
    "        rt(360/sides)\n",
    "color('blue')\n",
    "polygon(7)\n",
    "\n",
    "done()"
   ]
  },
  {
   "cell_type": "code",
   "execution_count": 11,
   "metadata": {},
   "outputs": [],
   "source": [
    "def circle():\n",
    "    for i in range(360):\n",
    "        fd(1)\n",
    "        rt(1)\n",
    "        \n",
    "def quartercircle():\n",
    "    for i in range(90):\n",
    "        fd(1)\n",
    "        rt(1)\n",
    "        \n",
    "def petal():\n",
    "    for i in range(2):\n",
    "        quartercircle()\n",
    "        rt(90)\n",
    "\n",
    "def flowerhead():\n",
    "    for i in range(12):\n",
    "        petal()\n",
    "        rt(30)\n",
    "\n",
    "def flower():\n",
    "    speed(0)\n",
    "    color('green') # green stem and leaf\n",
    "    pensize(3) # for thicker lines\n",
    "    setpos(0,-200) # start lower on screen\n",
    "    setheading(90) # face straight up\n",
    "    fd(100) # draw the stem\n",
    "    petal() # draw a leaf on the stem\n",
    "    fd(150) # finish the stem\n",
    "    color('pink') # pink flower petals\n",
    "    flowerhead() # draw the flowerhead"
   ]
  },
  {
   "cell_type": "code",
   "execution_count": 12,
   "metadata": {},
   "outputs": [],
   "source": [
    "\n",
    "flower()\n",
    "\n",
    "done()"
   ]
  },
  {
   "cell_type": "code",
   "execution_count": null,
   "metadata": {},
   "outputs": [],
   "source": []
  }
 ]
}